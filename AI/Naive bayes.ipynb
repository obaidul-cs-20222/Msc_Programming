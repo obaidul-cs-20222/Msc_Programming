{
 "cells": [
  {
   "cell_type": "markdown",
   "id": "d1e38653",
   "metadata": {},
   "source": [
    "# Naive bayes"
   ]
  },
  {
   "cell_type": "code",
   "execution_count": 6,
   "id": "506330ec",
   "metadata": {},
   "outputs": [
    {
     "name": "stdout",
     "output_type": "stream",
     "text": [
      "Accuracy: 0.8228155339805825\n",
      "CART accuracy: 0.82\n",
      "Classification report:\n",
      "              precision    recall  f1-score   support\n",
      "\n",
      "           0       0.81      0.88      0.84       222\n",
      "           1       0.84      0.76      0.80       190\n",
      "\n",
      "    accuracy                           0.82       412\n",
      "   macro avg       0.83      0.82      0.82       412\n",
      "weighted avg       0.82      0.82      0.82       412\n",
      "\n"
     ]
    }
   ],
   "source": [
    "from sklearn.model_selection import train_test_split\n",
    "from sklearn import metrics\n",
    "from sklearn.metrics import accuracy_score, classification_report, mean_squared_error\n",
    "import pandas as pd\n",
    "\n",
    "from sklearn.naive_bayes import GaussianNB\n",
    "\n",
    "# import export_graphviz \n",
    "from sklearn.tree import export_graphviz \n",
    "\n",
    "# Reading the CSV file\n",
    "rawData = pd.read_csv(\"D:/JupyterProgram/M.Sc 3rd Semester (AI)/data_banknote_authentication.csv\", index_col=False)#header = None\n",
    "\n",
    "# Shuffle the dataset\n",
    "shuffled_data = rawData.sample(n=len(rawData))\n",
    "\n",
    "# Remove rows with missing values\n",
    "cleaned_data = shuffled_data.dropna(axis=0)\n",
    "\n",
    "# Specify the name or index of the intermediate target column\n",
    "target_column_name = 'Target'  \n",
    "\n",
    "# Separate the DataFrame into features and target\n",
    "# features: all columns except the target column\n",
    "# target: the specified target column\n",
    "features = cleaned_data.drop(target_column_name, axis=1)\n",
    "target = cleaned_data[target_column_name]\n",
    "\n",
    "# Split the data into training and testing sets\n",
    "X_train, X_test, y_train, y_test = train_test_split(features, target, test_size=0.3, random_state=42)\n",
    "\n",
    "# Build a Gaussian Classifier\n",
    "model = GaussianNB()\n",
    "\n",
    "# Model training\n",
    "model.fit(X_train, y_train)\n",
    "\n",
    "# Make predictions\n",
    "y_pred = model.predict(X_test)\n",
    "\n",
    "# Evaluate the model\n",
    "accuracy = metrics.accuracy_score(y_test, y_pred)\n",
    "print(\"Accuracy:\", accuracy)\n",
    "\n",
    "# Calculate accuracy\n",
    "accuracy = accuracy_score(y_test, y_pred)\n",
    "print(f'CART accuracy: {accuracy:.2f}')\n",
    "\n",
    "# Print classification report\n",
    "print('Classification report:')\n",
    "print(classification_report(y_test, y_pred))"
   ]
  }
 ],
 "metadata": {
  "kernelspec": {
   "display_name": "Python 3 (ipykernel)",
   "language": "python",
   "name": "python3"
  },
  "language_info": {
   "codemirror_mode": {
    "name": "ipython",
    "version": 3
   },
   "file_extension": ".py",
   "mimetype": "text/x-python",
   "name": "python",
   "nbconvert_exporter": "python",
   "pygments_lexer": "ipython3",
   "version": "3.7.5"
  }
 },
 "nbformat": 4,
 "nbformat_minor": 5
}
