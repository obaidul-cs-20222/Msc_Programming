{
 "cells": [
  {
   "cell_type": "code",
   "execution_count": 8,
   "metadata": {},
   "outputs": [
    {
     "name": "stdout",
     "output_type": "stream",
     "text": [
      "Accuracy: 1.00\n",
      "Classification Report:\n",
      "               precision    recall  f1-score   support\n",
      "\n",
      "           0       1.00      1.00      1.00         1\n",
      "           1       1.00      1.00      1.00         2\n",
      "\n",
      "    accuracy                           1.00         3\n",
      "   macro avg       1.00      1.00      1.00         3\n",
      "weighted avg       1.00      1.00      1.00         3\n",
      "\n",
      "Confusion Matrix:\n",
      " [[1 0]\n",
      " [0 2]]\n"
     ]
    }
   ],
   "source": [
    "from sklearn.neural_network import MLPClassifier\n",
    "from sklearn.model_selection import train_test_split\n",
    "from sklearn.metrics import accuracy_score, classification_report, confusion_matrix\n",
    "import pandas as pd\n",
    "from sklearn.preprocessing import LabelEncoder\n",
    "# Load your data\n",
    "rawData = pd.read_csv(\"buy computer.csv\")\n",
    "le = LabelEncoder()\n",
    "rawData['age'] = le.fit_transform(rawData['age'])\n",
    "rawData['income'] = le.fit_transform(rawData['income'])\n",
    "rawData['student'] = le.fit_transform(rawData['student'])\n",
    "rawData['credit_rating'] = le.fit_transform(rawData['credit_rating'])\n",
    "rawData['Buy_Computer'] = le.fit_transform(rawData['Buy_Computer'])\n",
    "# Shuffle the dataset\n",
    "shuffled_data = rawData.sample(n=len(rawData))\n",
    "\n",
    "# Remove rows with missing values\n",
    "cleaned_data = shuffled_data.dropna(axis=0)\n",
    "\n",
    "# Specify the name or index of the target column\n",
    "target_column_name = 'Buy_Computer'  \n",
    "\n",
    "# Separate the DataFrame into features and target\n",
    "features = cleaned_data.drop(target_column_name, axis=1)\n",
    "target = cleaned_data[target_column_name]\n",
    "\n",
    "# Split the data into training and testing sets\n",
    "X_train, X_test, y_train, y_test = train_test_split(features, target, test_size=0.2, random_state=42)\n",
    "\n",
    "# Create and configure the MLPClassifier\n",
    "mlp = MLPClassifier(hidden_layer_sizes=(100, 50),  # Two hidden layers (100 and 50 neurons)\n",
    "                    activation='relu',             # Activation function (ReLU)\n",
    "                    solver='adam',                 # Optimization solver (Adam)\n",
    "                    max_iter=1000,                 # Maximum iterations\n",
    "                    random_state=42)\n",
    "\n",
    "# Train the model\n",
    "mlp.fit(X_train, y_train)\n",
    "\n",
    "# Make predictions\n",
    "y_pred = mlp.predict(X_test)\n",
    "\n",
    "# Evaluate the model using classification metrics\n",
    "accuracy = accuracy_score(y_test, y_pred)\n",
    "classification_rep = classification_report(y_test, y_pred)\n",
    "conf_matrix = confusion_matrix(y_test, y_pred)\n",
    "\n",
    "print(f\"Accuracy: {accuracy:.2f}\")\n",
    "print(\"Classification Report:\\n\", classification_rep)\n",
    "print(\"Confusion Matrix:\\n\", conf_matrix)\n"
   ]
  }
 ],
 "metadata": {
  "kernelspec": {
   "display_name": "Python 3",
   "language": "python",
   "name": "python3"
  },
  "language_info": {
   "codemirror_mode": {
    "name": "ipython",
    "version": 3
   },
   "file_extension": ".py",
   "mimetype": "text/x-python",
   "name": "python",
   "nbconvert_exporter": "python",
   "pygments_lexer": "ipython3",
   "version": "3.12.0"
  }
 },
 "nbformat": 4,
 "nbformat_minor": 2
}
