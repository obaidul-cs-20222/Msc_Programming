{
 "cells": [
  {
   "cell_type": "code",
   "execution_count": 2,
   "metadata": {},
   "outputs": [
    {
     "name": "stdout",
     "output_type": "stream",
     "text": [
      "Predictions:\n",
      "[[-0.94677955]\n",
      " [-0.94677955]\n",
      " [ 0.92030221]\n",
      " [-0.9979003 ]]\n"
     ]
    }
   ],
   "source": [
    "import numpy as np\n",
    "\n",
    "# Activation function\n",
    "def bipolar_sigmoid(x):\n",
    "    return (2 / (1 + np.exp(-x))) - 1\n",
    "\n",
    "# Derivative of bipolar sigmoid for backpropagation\n",
    "def bipolar_sigmoid_derivative(x):\n",
    "    return 0.5 * (1 + x) * (1 - x)\n",
    "\n",
    "# Madeline Algorithm\n",
    "class Madaline:\n",
    "    def __init__(self, input_size, hidden_size, output_size, learning_rate=0.5, v0=0.5, v1=0.5, v2=0.5):\n",
    "        self.input_size = input_size\n",
    "        self.hidden_size = hidden_size\n",
    "        self.output_size = output_size\n",
    "        self.learning_rate = learning_rate\n",
    "\n",
    "        # Initialize weights and biases\n",
    "        self.weights_input_hidden = np.random.rand(self.input_size, self.hidden_size) * (v1 - v0) + v0\n",
    "        self.weights_hidden_output = np.random.rand(self.hidden_size, self.output_size) * (v2 - v0) + v0\n",
    "        self.bias_hidden = np.ones((1, self.hidden_size))\n",
    "        self.bias_output = np.ones((1, self.output_size))\n",
    "\n",
    "    def feedforward(self, X):\n",
    "        self.hidden_input = np.dot(X, self.weights_input_hidden) + self.bias_hidden\n",
    "        self.hidden_output = bipolar_sigmoid(self.hidden_input)\n",
    "\n",
    "        self.final_input = np.dot(self.hidden_output, self.weights_hidden_output) + self.bias_output\n",
    "        self.final_output = bipolar_sigmoid(self.final_input)\n",
    "        return self.final_output\n",
    "\n",
    "    def backpropagate(self, X, y):\n",
    "        error = y - self.final_output\n",
    "        d_output = error * bipolar_sigmoid_derivative(self.final_output)\n",
    "        \n",
    "        error_hidden_layer = d_output.dot(self.weights_hidden_output.T)\n",
    "        d_hidden_layer = error_hidden_layer * bipolar_sigmoid_derivative(self.hidden_output)\n",
    "\n",
    "        # Update the weights and biases\n",
    "        self.weights_hidden_output += self.hidden_output.T.dot(d_output) * self.learning_rate\n",
    "        self.bias_output += np.sum(d_output, axis=0, keepdims=True) * self.learning_rate\n",
    "\n",
    "        self.weights_input_hidden += X.T.dot(d_hidden_layer) * self.learning_rate\n",
    "        self.bias_hidden += np.sum(d_hidden_layer, axis=0, keepdims=True) * self.learning_rate\n",
    "\n",
    "    def train(self, X, y, epochs):\n",
    "        for epoch in range(epochs):\n",
    "            self.feedforward(X)\n",
    "            self.backpropagate(X, y)\n",
    "\n",
    "    def predict(self, X):\n",
    "        return self.feedforward(X)\n",
    "\n",
    "# Dataset for XOR gates\n",
    "X = np.array([[1, -1], [-1, 1], [1, 1], [-1, -1]])\n",
    "y = np.array([[-1], [-1], [1], [-1]])\n",
    "\n",
    "# Train Madaline\n",
    "madaline = Madaline(input_size=2, hidden_size=2, output_size=1, learning_rate=0.5)\n",
    "madaline.train(X, y, epochs=100)\n",
    "\n",
    "# Predictions\n",
    "predictions = madaline.predict(X)\n",
    "print(\"Predictions:\")\n",
    "print(predictions)\n"
   ]
  }
 ],
 "metadata": {
  "kernelspec": {
   "display_name": "Python 3",
   "language": "python",
   "name": "python3"
  },
  "language_info": {
   "codemirror_mode": {
    "name": "ipython",
    "version": 3
   },
   "file_extension": ".py",
   "mimetype": "text/x-python",
   "name": "python",
   "nbconvert_exporter": "python",
   "pygments_lexer": "ipython3",
   "version": "3.12.0"
  }
 },
 "nbformat": 4,
 "nbformat_minor": 2
}
