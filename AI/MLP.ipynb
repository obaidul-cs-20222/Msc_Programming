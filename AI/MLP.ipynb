{
 "cells": [
  {
   "cell_type": "markdown",
   "id": "a4e0e1f7",
   "metadata": {},
   "source": [
    "# MLP Classifier"
   ]
  },
  {
   "cell_type": "code",
   "execution_count": null,
   "id": "124a42f2",
   "metadata": {},
   "outputs": [],
   "source": [
    "from sklearn.neural_network import MLPClassifier\n",
    "from sklearn.model_selection import train_test_split\n",
    "from sklearn.metrics import accuracy_score, classification_report, confusion_matrix\n",
    "import pandas as pd\n",
    "\n",
    "# Load your data\n",
    "rawData = pd.read_csv(\"D:/JupyterProgram/M.Sc 3rd Semester (AI)/data_banknote_authentication.csv\", index_col=False)\n",
    "\n",
    "# Shuffle the dataset\n",
    "shuffled_data = rawData.sample(n=len(rawData))\n",
    "\n",
    "# Remove rows with missing values\n",
    "cleaned_data = shuffled_data.dropna(axis=0)\n",
    "\n",
    "# Specify the name or index of the target column\n",
    "target_column_name = 'Target'  \n",
    "\n",
    "# Separate the DataFrame into features and target\n",
    "features = cleaned_data.drop(target_column_name, axis=1)\n",
    "target = cleaned_data[target_column_name]\n",
    "\n",
    "# Split the data into training and testing sets\n",
    "X_train, X_test, y_train, y_test = train_test_split(features, target, test_size=0.3, random_state=42)\n",
    "\n",
    "# Create and configure the MLPClassifier\n",
    "mlp = MLPClassifier(hidden_layer_sizes=(100, 50),  # Two hidden layers (100 and 50 neurons)\n",
    "                    activation='relu',             # Activation function (ReLU)\n",
    "                    solver='adam',                 # Optimization solver (Adam)\n",
    "                    max_iter=1000,                 # Maximum iterations\n",
    "                    random_state=42)\n",
    "\n",
    "# Train the model\n",
    "mlp.fit(X_train, y_train)\n",
    "\n",
    "# Make predictions\n",
    "y_pred = mlp.predict(X_test)\n",
    "\n",
    "# Evaluate the model using classification metrics\n",
    "accuracy = accuracy_score(y_test, y_pred)\n",
    "classification_rep = classification_report(y_test, y_pred)\n",
    "conf_matrix = confusion_matrix(y_test, y_pred)\n",
    "\n",
    "print(f\"Accuracy: {accuracy:.2f}\")\n",
    "print(\"Classification Report:\\n\", classification_rep)\n",
    "print(\"Confusion Matrix:\\n\", conf_matrix)\n"
   ]
  },
  {
   "cell_type": "markdown",
   "id": "3f154336",
   "metadata": {},
   "source": [
    "# MLP Regressor"
   ]
  },
  {
   "cell_type": "code",
   "execution_count": null,
   "id": "14fd8539",
   "metadata": {},
   "outputs": [],
   "source": [
    "from sklearn.neural_network import MLPRegressor\n",
    "from sklearn.model_selection import train_test_split\n",
    "from sklearn.metrics import mean_squared_error, mean_absolute_error, r2_score\n",
    "import pandas as pd\n",
    "\n",
    "# Load your data\n",
    "rawData = pd.read_csv(\"D:/JupyterProgram/M.Sc 3rd Semester (AI)/data_banknote_authentication.csv\", index_col=False)\n",
    "\n",
    "# Shuffle the dataset\n",
    "shuffled_data = rawData.sample(n=len(rawData))\n",
    "\n",
    "# Remove rows with missing values\n",
    "cleaned_data = shuffled_data.dropna(axis=0)\n",
    "\n",
    "# Specify the name or index of the target column\n",
    "target_column_name = 'Target'  \n",
    "\n",
    "# Separate the DataFrame into features and target\n",
    "features = cleaned_data.drop(target_column_name, axis=1)\n",
    "target = cleaned_data[target_column_name]\n",
    "\n",
    "# Split the data into training and testing sets\n",
    "X_train, X_test, y_train, y_test = train_test_split(features, target, test_size=0.3, random_state=42)\n",
    "\n",
    "# Create and configure the MLPRegressor\n",
    "mlp = MLPRegressor(hidden_layer_sizes=(100, 50),  # Two hidden layers (100 and 50 neurons)\n",
    "                   activation='relu',             # Activation function (ReLU)\n",
    "                   solver='adam',                 # Optimization solver (Adam)\n",
    "                   max_iter=1000,                 # Maximum iterations\n",
    "                   random_state=42)\n",
    "\n",
    "# Train the model\n",
    "mlp.fit(X_train, y_train)\n",
    "\n",
    "# Make predictions\n",
    "y_pred = mlp.predict(X_test)\n",
    "\n",
    "# Evaluate the model using regression metrics\n",
    "mse = mean_squared_error(y_test, y_pred)\n",
    "mae = mean_absolute_error(y_test, y_pred)\n",
    "r2 = r2_score(y_test, y_pred)\n",
    "\n",
    "print(f\"Mean Squared Error (MSE): {mse:.2f}\")\n",
    "print(f\"Mean Absolute Error (MAE): {mae:.2f}\")\n",
    "print(f\"R-squared (R²): {r2:.2f}\")\n"
   ]
  }
 ],
 "metadata": {
  "kernelspec": {
   "display_name": "Python 3 (ipykernel)",
   "language": "python",
   "name": "python3"
  },
  "language_info": {
   "codemirror_mode": {
    "name": "ipython",
    "version": 3
   },
   "file_extension": ".py",
   "mimetype": "text/x-python",
   "name": "python",
   "nbconvert_exporter": "python",
   "pygments_lexer": "ipython3",
   "version": "3.7.5"
  }
 },
 "nbformat": 4,
 "nbformat_minor": 5
}
